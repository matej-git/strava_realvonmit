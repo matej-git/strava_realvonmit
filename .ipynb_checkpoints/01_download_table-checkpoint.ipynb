{
 "cells": [
  {
   "cell_type": "code",
   "execution_count": 2,
   "metadata": {},
   "outputs": [],
   "source": [
    "from bs4 import BeautifulSoup as bs\n",
    "\n",
    "import requests\n",
    "import lxml.html as lh\n",
    "import pandas as pd\n",
    "import re"
   ]
  },
  {
   "cell_type": "code",
   "execution_count": 3,
   "metadata": {},
   "outputs": [],
   "source": [
    "# set race\n",
    "url_race = '2018-medio-maratn-valencia-trinidad-alfonso'\n",
    "city = 'valencia'\n",
    "year = '2018'\n",
    "race = 'halfmarathon'"
   ]
  },
  {
   "cell_type": "code",
   "execution_count": 15,
   "metadata": {},
   "outputs": [],
   "source": [
    "url = 'https://www.strava.com/running_races/' + url_race + '/results?page='\n",
    "race_table = pd.DataFrame({\n",
    "    'Rank' : [],\n",
    "    'Name' : [],\n",
    "    'Gender' : [],\n",
    "    'Age' : [],\n",
    "    'Strava activity' : [],\n",
    "    'athlet_url' : [],\n",
    "    'race_url' : []\n",
    "})"
   ]
  },
  {
   "cell_type": "code",
   "execution_count": 7,
   "metadata": {},
   "outputs": [],
   "source": [
    "def strava_scrape(url, i):\n",
    "    page = requests.get(url + str(i))\n",
    "    soup = bs(page.content, 'html.parser')\n",
    "\n",
    "    athlete_rank = [x.text for x in soup.find_all('td', attrs = {'class':'athlete-rank'})]\n",
    "    athlete_name = [x.text.replace('\\n','') for x in soup.find_all('td', attrs = {'class':'athlete-name'})]\n",
    "    athlete_gender = [x.text.replace('\\n','') for x in soup.find_all('td', attrs = {'class':'athlete-gender'})]\n",
    "    athlete_age = [x.text for x in soup.find_all('td', attrs = {'class':'athlete-age'})]\n",
    "    strava_activity = [x.text.replace('\\n','') for x in soup.find_all('td', attrs = {'class':'athlete-activity'})]\n",
    "\n",
    "    athlet_url = []\n",
    "    for link in soup.findAll('a', attrs={'href': re.compile(\"/athletes/\")}):\n",
    "            athlet_url.append(link.get('href'))\n",
    "    athlet_url = athlet_url[0::2]\n",
    "\n",
    "    race_url = []\n",
    "    for link in soup.findAll('a', attrs={'href': re.compile(\"/activities/\")}):\n",
    "            race_url.append(link.get('href'))\n",
    "            \n",
    "    data = pd.DataFrame({\n",
    "    'Rank' : athlete_rank,\n",
    "    'Name' : athlete_name,\n",
    "    'Gender' : athlete_gender,\n",
    "    'Age' : athlete_age,\n",
    "    'Strava activity' : strava_activity,\n",
    "    'athlet_url' : athlet_url,\n",
    "    'race_url' : race_url})\n",
    "    \n",
    "    return(data)"
   ]
  },
  {
   "cell_type": "code",
   "execution_count": 36,
   "metadata": {},
   "outputs": [],
   "source": [
    "i = 0\n",
    "check = True\n",
    "\n",
    "while check:\n",
    "    i += 1\n",
    "    race_table_i = strava_scrape(url, i)\n",
    "    check = len(resulet_table_i) != 0\n",
    "    if check: break\n",
    "    race_table = race_table.append(race_table_i)"
   ]
  },
  {
   "cell_type": "code",
   "execution_count": null,
   "metadata": {},
   "outputs": [],
   "source": []
  },
  {
   "cell_type": "code",
   "execution_count": 33,
   "metadata": {},
   "outputs": [
    {
     "data": {
      "text/html": [
       "<div>\n",
       "<style scoped>\n",
       "    .dataframe tbody tr th:only-of-type {\n",
       "        vertical-align: middle;\n",
       "    }\n",
       "\n",
       "    .dataframe tbody tr th {\n",
       "        vertical-align: top;\n",
       "    }\n",
       "\n",
       "    .dataframe thead th {\n",
       "        text-align: right;\n",
       "    }\n",
       "</style>\n",
       "<table border=\"1\" class=\"dataframe\">\n",
       "  <thead>\n",
       "    <tr style=\"text-align: right;\">\n",
       "      <th></th>\n",
       "      <th>Rank</th>\n",
       "      <th>Name</th>\n",
       "      <th>Gender</th>\n",
       "      <th>Age</th>\n",
       "      <th>Strava activity</th>\n",
       "      <th>athlet_url</th>\n",
       "      <th>race_url</th>\n",
       "    </tr>\n",
       "  </thead>\n",
       "  <tbody>\n",
       "  </tbody>\n",
       "</table>\n",
       "</div>"
      ],
      "text/plain": [
       "Empty DataFrame\n",
       "Columns: [Rank, Name, Gender, Age, Strava activity, athlet_url, race_url]\n",
       "Index: []"
      ]
     },
     "execution_count": 33,
     "metadata": {},
     "output_type": "execute_result"
    }
   ],
   "source": [
    "race_table.to_csv('data/raw/'+city+'_'+race+'_'+year+'_full.csv')"
   ]
  }
 ],
 "metadata": {
  "kernelspec": {
   "display_name": "Python 3",
   "language": "python",
   "name": "python3"
  },
  "language_info": {
   "codemirror_mode": {
    "name": "ipython",
    "version": 3
   },
   "file_extension": ".py",
   "mimetype": "text/x-python",
   "name": "python",
   "nbconvert_exporter": "python",
   "pygments_lexer": "ipython3",
   "version": "3.7.3"
  }
 },
 "nbformat": 4,
 "nbformat_minor": 2
}
