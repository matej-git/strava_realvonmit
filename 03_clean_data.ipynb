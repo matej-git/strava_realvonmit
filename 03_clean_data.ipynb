{
 "cells": [
  {
   "cell_type": "code",
   "execution_count": 1,
   "metadata": {},
   "outputs": [],
   "source": [
    "import pandas as pd\n",
    "import numpy as np\n",
    "import re\n",
    "import time\n",
    "import random\n",
    "import matplotlib.pyplot as plt"
   ]
  },
  {
   "cell_type": "code",
   "execution_count": 2,
   "metadata": {},
   "outputs": [],
   "source": [
    "# set race\n",
    "city = 'berlin'\n",
    "year = '2018'\n",
    "race = 'marathon'"
   ]
  },
  {
   "cell_type": "code",
   "execution_count": 3,
   "metadata": {},
   "outputs": [],
   "source": [
    "# set outlier boarders\n",
    "if race == 'halfmarathon':\n",
    "    race_length = 21.0975\n",
    "    floor = race_length - 3\n",
    "    cap = race_length + 3\n",
    "    time_cap = 3.5\n",
    "if race == 'marathon':\n",
    "    race_length = 42.195\n",
    "    floor = race_length - 6\n",
    "    cap = race_length + 6\n",
    "    time_cap = 7"
   ]
  },
  {
   "cell_type": "code",
   "execution_count": 4,
   "metadata": {},
   "outputs": [],
   "source": [
    "race_table = pd.read_csv('data/full/'+city+'_'+race+'_'+year+'.csv', index_col = 0)\n",
    "race_table = race_table.drop(columns=['Name', 'Strava Activity'])"
   ]
  },
  {
   "cell_type": "code",
   "execution_count": 5,
   "metadata": {},
   "outputs": [],
   "source": [
    "# Clear distance\n",
    "race_table.Distance = race_table.Distance.astype(str).map(lambda x: x.lstrip(\"['\").strip(\"']\"))\n",
    "race_table.Distance = pd.to_numeric(race_table.Distance)\n",
    "#filter outliers\n",
    "race_table = race_table[(race_table.Distance<cap) & (race_table.Distance>floor)]"
   ]
  },
  {
   "cell_type": "code",
   "execution_count": 6,
   "metadata": {},
   "outputs": [],
   "source": [
    "# add info to table\n",
    "race_table['city'] = city.replace('_',' ').title()\n",
    "race_table['year'] = year\n",
    "race_table['race_type'] = race.title()"
   ]
  },
  {
   "cell_type": "code",
   "execution_count": 7,
   "metadata": {},
   "outputs": [],
   "source": [
    "#Clear wath info\n",
    "race_table.Watch = race_table.Watch.astype(str).map(lambda x: x.lstrip(\"['\").strip(\"']\"))\n",
    "race_table.Watch = race_table.Watch.str.replace('<a href=\"/', '')\n",
    "race_table.Watch = race_table.Watch.str.replace('</a>', '')\n",
    "race_table.Watch = race_table.Watch.str.replace('mobile\">Strava ', '')\n",
    "race_table.Watch = race_table.Watch.str.replace('android-wear\">', '')\n",
    "race_table.Watch = race_table.Watch.str.replace('apple-watch\">', '')\n",
    "#jebnute nazvy garminov\n",
    "race_table.Watch = race_table.Watch.str.replace('vívo', 'vivo')\n",
    "race_table.Watch = race_table.Watch.str.replace('Vívo', 'vivo')\n",
    "race_table.Watch = race_table.Watch.str.replace('fēnix', 'fenix')"
   ]
  },
  {
   "cell_type": "code",
   "execution_count": 8,
   "metadata": {},
   "outputs": [],
   "source": [
    "#Extract watch brand\n",
    "race_table['Watch_Brand'] = race_table.Watch.str.split().str[0]\n",
    "#Watch Error\n",
    "race_table['Watch_Error'] = race_table.Distance - race_length\n",
    "race_table['Watch_Error_Abs'] = race_table.Watch_Error.abs()"
   ]
  },
  {
   "cell_type": "code",
   "execution_count": 9,
   "metadata": {},
   "outputs": [],
   "source": [
    "# Clear shoes\n",
    "race_table.Shoes = race_table.Shoes.map(lambda x: x.lstrip(\"['\").strip(\"']\"))\n",
    "race_table.Shoes = race_table.Shoes.str.replace('—', 'NA')"
   ]
  },
  {
   "cell_type": "code",
   "execution_count": 10,
   "metadata": {
    "scrolled": true
   },
   "outputs": [],
   "source": [
    "race_table.athlet_url = race_table.athlet_url.str.replace('/athletes/', '')\n",
    "race_table.race_url = race_table.race_url.str.replace('/activities/', '')"
   ]
  },
  {
   "cell_type": "code",
   "execution_count": 11,
   "metadata": {},
   "outputs": [],
   "source": [
    "race_table['H'] = pd.to_numeric(race_table.Finish.map(lambda x: x.split(\":\")[0]))\n",
    "race_table['M'] = pd.to_numeric(race_table.Finish.map(lambda x: x.split(\":\")[1]))\n",
    "race_table['S'] = pd.to_numeric(race_table.Finish.map(lambda x: x.split(\":\")[2]))"
   ]
  },
  {
   "cell_type": "code",
   "execution_count": 12,
   "metadata": {},
   "outputs": [],
   "source": [
    "race_table['Finish_num'] = race_table.H + race_table.M/60 + race_table.S/3600\n",
    "race_table = race_table.drop(columns=['H', 'M', 'S'])\n",
    "#filter outliers\n",
    "race_table = race_table[race_table.Finish_num<time_cap]"
   ]
  },
  {
   "cell_type": "code",
   "execution_count": 13,
   "metadata": {},
   "outputs": [],
   "source": [
    "# commet later\n",
    "race_table = race_table.drop(race_table.columns[0], axis=1)"
   ]
  },
  {
   "cell_type": "code",
   "execution_count": 14,
   "metadata": {},
   "outputs": [],
   "source": [
    "#race_table[race_table.Watch_Brand == 'Suunto'].Watch.value_counts()"
   ]
  },
  {
   "cell_type": "code",
   "execution_count": 15,
   "metadata": {},
   "outputs": [],
   "source": [
    "#race_table[race_table.Watch_Brand == 'Suunto'][['Watch', 'Watch_Error_Abs']].groupby(['Watch']).mean().sort_values(by='Watch_Error_Abs')"
   ]
  },
  {
   "cell_type": "code",
   "execution_count": 16,
   "metadata": {},
   "outputs": [],
   "source": [
    "#plt.hist(race_table['Watch_Error'], bins = 50)\n",
    "#plt.title('Error Check')"
   ]
  },
  {
   "cell_type": "code",
   "execution_count": 17,
   "metadata": {},
   "outputs": [],
   "source": [
    "#plt.hist(race_table[race_table.Watch_Brand == 'Huami']['Watch_Error'], bins = 10)\n",
    "#plt.title('Amazefit Error Check')"
   ]
  },
  {
   "cell_type": "code",
   "execution_count": 18,
   "metadata": {},
   "outputs": [],
   "source": [
    "#plt.hist(race_table[race_table.Watch_Brand == 'Garmin']['Watch_Error'], bins = 10)\n",
    "#plt.title('Garmin Error Check')"
   ]
  },
  {
   "cell_type": "code",
   "execution_count": 19,
   "metadata": {},
   "outputs": [],
   "source": [
    "race_table.to_csv(('data/clean/'+city+'_'+race+'_'+year+'_final'+'.csv'), index=False)"
   ]
  }
 ],
 "metadata": {
  "kernelspec": {
   "display_name": "Python 3",
   "language": "python",
   "name": "python3"
  },
  "language_info": {
   "codemirror_mode": {
    "name": "ipython",
    "version": 3
   },
   "file_extension": ".py",
   "mimetype": "text/x-python",
   "name": "python",
   "nbconvert_exporter": "python",
   "pygments_lexer": "ipython3",
   "version": "3.7.3"
  }
 },
 "nbformat": 4,
 "nbformat_minor": 2
}
