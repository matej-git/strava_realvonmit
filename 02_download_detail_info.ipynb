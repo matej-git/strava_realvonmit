{
 "cells": [
  {
   "cell_type": "code",
   "execution_count": 1,
   "metadata": {},
   "outputs": [],
   "source": [
    "from webbot import Browser\n",
    "import pandas as pd\n",
    "import re\n",
    "import time\n",
    "import random"
   ]
  },
  {
   "cell_type": "code",
   "execution_count": 2,
   "metadata": {},
   "outputs": [],
   "source": [
    "#get a race data\n",
    "race_table = pd.read_csv('data/barcelona_half_2019_raw.csv', encoding = \"ISO-8859-1\")\n",
    "#open browser\n",
    "web = Browser()\n",
    "#strava login infos\n",
    "names = ['mkarkalik@gmail.com','juraj.svrbo@gmail.com','jan.svrbo@gmail.com']\n",
    "passwords = ['akosamas','akosamas','akosamas']"
   ]
  },
  {
   "cell_type": "code",
   "execution_count": 3,
   "metadata": {},
   "outputs": [],
   "source": [
    "def strava_login(web, name, password):\n",
    "    web.go_to('https://www.strava.com/login') \n",
    "    web.type(name , into='email')\n",
    "    web.type(password , into='password' , id='password')\n",
    "    web.click('submit', id = 'login-button')\n",
    "    return(web)"
   ]
  },
  {
   "cell_type": "code",
   "execution_count": 4,
   "metadata": {},
   "outputs": [],
   "source": [
    "def strava_download(web, url):\n",
    "    web.go_to('https://www.strava.com'+url)\n",
    "    activity = web.get_page_source()\n",
    "    activity_clear = activity.replace('\\n','')\n",
    "    watch = re.findall(regex_watch, activity_clear)\n",
    "    shoes = re.findall(regex_shoes, activity_clear)\n",
    "    distance = re.findall(regex_distance, activity_clear)\n",
    "    condition = 'Too Many Requests' in activity\n",
    "    return([condition, watch, shoes, distance])"
   ]
  },
  {
   "cell_type": "code",
   "execution_count": 5,
   "metadata": {},
   "outputs": [],
   "source": [
    "regex_watch = r'(?<=device spans8)\">(.*)(?=</div><div class=\"gear spans8)'\n",
    "regex_shoes = r'(?<=<span class=\"gear-name\">)(.*)(?=</span></div></div></div>)'\n",
    "regex_distance = r'(?<=inline-stats section\"><li><strong>)(.*)(?=<abbr class=\"unit\" title=\"kilometers\">km)'"
   ]
  },
  {
   "cell_type": "code",
   "execution_count": 6,
   "metadata": {},
   "outputs": [],
   "source": [
    "watch_list = []\n",
    "shoes_list = []\n",
    "distance_list = []\n",
    "i = 0\n",
    "strava_login(web, names[0], passwords[0])\n",
    "time.sleep(10)"
   ]
  },
  {
   "cell_type": "code",
   "execution_count": 7,
   "metadata": {},
   "outputs": [],
   "source": [
    "for url in race_table['race_url']:\n",
    "    info = strava_download(web, url)\n",
    "    while info[0]:\n",
    "        names.append(names[0])\n",
    "        names.pop(0)\n",
    "        passwords.append(passwords[0])\n",
    "        passwords.pop(0)\n",
    "        web.go_to('https://www.strava.com/logout') \n",
    "        strava_login(web, names[0], passwords[0])\n",
    "        time.sleep(300)\n",
    "        info = strava_download(web, url)\n",
    "    watch_list.append(info[1])\n",
    "    shoes_list.append(info[2])\n",
    "    distance_list.append(info[3])\n",
    "    i = i+1"
   ]
  },
  {
   "cell_type": "code",
   "execution_count": 8,
   "metadata": {
    "scrolled": false
   },
   "outputs": [],
   "source": [
    "pd.DataFrame(watch_list).to_csv('watch_list.csv')\n",
    "pd.DataFrame(shoes_list).to_csv('shoes_list.csv')\n",
    "pd.DataFrame(distance_list).to_csv('distance_list.csv')"
   ]
  },
  {
   "cell_type": "code",
   "execution_count": 9,
   "metadata": {},
   "outputs": [],
   "source": [
    "race_table['Watch'] = watch_list\n",
    "race_table['Shoes'] = shoes_list\n",
    "race_table['Distance'] = distance_list"
   ]
  },
  {
   "cell_type": "code",
   "execution_count": 10,
   "metadata": {},
   "outputs": [],
   "source": [
    "race_table.to_csv('data/barcelona_half_2019.csv')"
   ]
  },
  {
   "cell_type": "code",
   "execution_count": 11,
   "metadata": {},
   "outputs": [],
   "source": [
    "# Different aproach\n",
    "\n",
    "#from requests import Session\n",
    "#from bs4 import BeautifulSoup as bs\n",
    " \n",
    "#with Session() as s:\n",
    "#    site = s.get(\"https://www.strava.com/login\")\n",
    "#    bs_content = bs(site.content, \"html.parser\")\n",
    "#    token1 = bs_content.find(\"meta\", {\"name\":\"csrf-token\"})[\"content\"]\n",
    "#    token2 = bs_content.find(\"input\", {\"name\":\"authenticity_token\"})[\"value\"]\n",
    "#    login_data = {\"email\":\"mkarkalik@gmail.com\", \n",
    "#                  \"password\":\"akosamas\", \n",
    "#                  \"csrf-token\":token1,\n",
    "#                  \"authenticity_token\":token2}\n",
    "#    s.post(\"https://www.strava.com/login\", login_data)\n",
    "#    home_page = s.get(\"https://www.strava.com/\")\n",
    "#    print(bs(home_page.content, \"html.parser\"))\n",
    "#    #print(token2)"
   ]
  }
 ],
 "metadata": {
  "kernelspec": {
   "display_name": "Python 3",
   "language": "python",
   "name": "python3"
  },
  "language_info": {
   "codemirror_mode": {
    "name": "ipython",
    "version": 3
   },
   "file_extension": ".py",
   "mimetype": "text/x-python",
   "name": "python",
   "nbconvert_exporter": "python",
   "pygments_lexer": "ipython3",
   "version": "3.7.3"
  }
 },
 "nbformat": 4,
 "nbformat_minor": 2
}
