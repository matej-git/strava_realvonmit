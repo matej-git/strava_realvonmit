{
 "cells": [
  {
   "cell_type": "code",
   "execution_count": 4,
   "metadata": {},
   "outputs": [],
   "source": [
    "from webbot import Browser\n",
    "from bs4 import BeautifulSoup as bs\n",
    "from math import isnan\n",
    "\n",
    "import pandas as pd\n",
    "import re\n",
    "import time\n",
    "import random\n",
    "import os\n",
    "\n",
    "os.chdir('..')"
   ]
  },
  {
   "cell_type": "code",
   "execution_count": 2,
   "metadata": {},
   "outputs": [],
   "source": [
    "# set race\n",
    "city = 'barcelona'\n",
    "year = '2019'\n",
    "race = 'halfmarathon'\n",
    "race_table = pd.read_csv('data/clean/'+city+'_'+race+'_'+year+'.csv', index_col = 0)"
   ]
  },
  {
   "cell_type": "code",
   "execution_count": 77,
   "metadata": {},
   "outputs": [],
   "source": [
    "# set race\n",
    "city = 'london'\n",
    "year = '2019'\n",
    "race = 'marathon'\n",
    "race_table_1 = pd.read_csv('data/clean/'+city+'_'+race+'_'+year+'.csv', index_col = 0)"
   ]
  },
  {
   "cell_type": "code",
   "execution_count": 82,
   "metadata": {},
   "outputs": [],
   "source": [
    "# set race\n",
    "city = 'new_york'\n",
    "year = '2018'\n",
    "race = 'marathon'\n",
    "race_table_2 = pd.read_csv('data/clean/'+city+'_'+race+'_'+year+'.csv', index_col = 0)"
   ]
  },
  {
   "cell_type": "code",
   "execution_count": 111,
   "metadata": {
    "scrolled": true
   },
   "outputs": [],
   "source": [
    "watch_list = list(set(race_table.Watch.append(race_table_1.Watch).append(race_table_2.Watch)))[1:]\n",
    "watch_list_price = []\n",
    "web_price = Browser()"
   ]
  },
  {
   "cell_type": "code",
   "execution_count": 112,
   "metadata": {},
   "outputs": [],
   "source": [
    "for watch in watch_list:    \n",
    "    web_price.go_to('https://recenzie.sme.sk')\n",
    "    web_price.type(watch , id=\"search-input\")\n",
    "    web_price.click('submit', classname=\"header-search-button\")\n",
    "    page_source = web_price.get_page_source()\n",
    "    soup = bs(page_source, 'html.parser')\n",
    "    soup_list = soup.find_all('a', attrs = {'class':'price price-num'})\n",
    "    if not soup_list: firt_result = ''\n",
    "    else: firt_result = soup.find_all('a', attrs = {'class':'price price-num'})[0].text\n",
    "    price_list = re.findall('\\d+', firt_result)\n",
    "    if not price_list: price_final = float('nan')\n",
    "    else: price_final = int(price_list[0])\n",
    "    watch_list_price.append(price_final)"
   ]
  },
  {
   "cell_type": "code",
   "execution_count": 113,
   "metadata": {},
   "outputs": [
    {
     "name": "stdout",
     "output_type": "stream",
     "text": [
      "103\n",
      "103\n"
     ]
    }
   ],
   "source": [
    "print(len(watch_list))\n",
    "print(len(watch_list_price))"
   ]
  },
  {
   "cell_type": "code",
   "execution_count": 114,
   "metadata": {},
   "outputs": [],
   "source": [
    "data = pd.DataFrame({\n",
    "    'Watch' : watch_list,\n",
    "    'Watch_price' : watch_list_price})"
   ]
  },
  {
   "cell_type": "code",
   "execution_count": 115,
   "metadata": {},
   "outputs": [],
   "source": [
    "data.to_csv(('data/clean/watch_price_lookup.csv'), index=False)"
   ]
  }
 ],
 "metadata": {
  "kernelspec": {
   "display_name": "Python 3",
   "language": "python",
   "name": "python3"
  },
  "language_info": {
   "codemirror_mode": {
    "name": "ipython",
    "version": 3
   },
   "file_extension": ".py",
   "mimetype": "text/x-python",
   "name": "python",
   "nbconvert_exporter": "python",
   "pygments_lexer": "ipython3",
   "version": "3.7.3"
  }
 },
 "nbformat": 4,
 "nbformat_minor": 2
}
